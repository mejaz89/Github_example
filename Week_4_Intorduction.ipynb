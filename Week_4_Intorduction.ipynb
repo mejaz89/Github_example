{
 "cells": [
  {
   "cell_type": "markdown",
   "metadata": {},
   "source": [
    "### Introduction/Business Probelm\n",
    "\n",
    "An integrated business group “Alpha Group” based in Toronto entered into Banking sector by opening the first branch in North York borough back in 2017 with the name of “Alpha Bank Limited”. Now after gaining enough experience of 02 years, they are planning to expand their banking business by opening new branches. The first branch is located in the neighborhood of Glencairn. Alpha Group has scheduled their expansion in three phases. In the first phase, they are planning to open 03 more branches in the same borough of North York. In the second phase, they will more other boroughs of Toronto while in the third phase, they will target other commercial cities of Canada.\n",
    "\n",
    "The scope of this project is limited till the first phase. Given the successful results of the first branch which is located in the largest borough of Toronto with maximum number of commercial venues, the objective is to identify neighborhood with similar nature and same commercial structure as of neighborhood of Glencairn in order to ensure the reduced risk of the first phase. While the location of the 03 banks to be decided in a way to cover the entire territory of North York. \n"
   ]
  },
  {
   "cell_type": "markdown",
   "metadata": {},
   "source": [
    "### Data Section\n",
    "\n",
    "Data requirement of this project includes list of all boroughs and all associated neighborhoods along with their locations in terms of Longitudes and Latitudes in order to visualize their location on Toronto Map. In addition, a comprehensive data of commercial venues is required particularly for the borough of North York such as number of restaurants, shops, educational institutes, corporates offices etc. This data is inevitable for this project and will be accessed through Foursquare."
   ]
  },
  {
   "cell_type": "code",
   "execution_count": null,
   "metadata": {},
   "outputs": [],
   "source": []
  }
 ],
 "metadata": {
  "kernelspec": {
   "display_name": "Python 3",
   "language": "python",
   "name": "python3"
  },
  "language_info": {
   "codemirror_mode": {
    "name": "ipython",
    "version": 3
   },
   "file_extension": ".py",
   "mimetype": "text/x-python",
   "name": "python",
   "nbconvert_exporter": "python",
   "pygments_lexer": "ipython3",
   "version": "3.7.6"
  }
 },
 "nbformat": 4,
 "nbformat_minor": 4
}
